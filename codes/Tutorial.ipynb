{
 "cells": [
  {
   "cell_type": "code",
   "execution_count": 5,
   "id": "7afa13fa",
   "metadata": {
    "scrolled": true
   },
   "outputs": [],
   "source": [
    "import pandas as pd\n",
    "import os\n",
    "import torch\n",
    "import torch.nn as nn\n",
    "import pandas as pd\n",
    "import numpy as np\n",
    "import torch.nn.functional as F\n",
    "import pickle\n",
    "import datatable as dt\n",
    "import scipy.spatial.distance as spd\n",
    "import MC as MC"
   ]
  },
  {
   "cell_type": "code",
   "execution_count": 6,
   "id": "9eaf4df1",
   "metadata": {
    "collapsed": true
   },
   "outputs": [
    {
     "ename": "ValueError",
     "evalue": "File D:\\jaeminjj\\SNU\\methylation_classifier\\Untitled Folder\\beta.csv does not exist",
     "output_type": "error",
     "traceback": [
      "\u001b[1;31m---------------------------------------------------------------------------\u001b[0m",
      "\u001b[1;31mValueError\u001b[0m                                Traceback (most recent call last)",
      "Cell \u001b[1;32mIn[6], line 2\u001b[0m\n\u001b[0;32m      1\u001b[0m \u001b[38;5;66;03m### beta data loading preporceessed data \u001b[39;00m\n\u001b[1;32m----> 2\u001b[0m sarcoma \u001b[38;5;241m=\u001b[39m \u001b[43mdt\u001b[49m\u001b[38;5;241;43m.\u001b[39;49m\u001b[43mfread\u001b[49m\u001b[43m(\u001b[49m\u001b[38;5;124;43m'\u001b[39;49m\u001b[38;5;124;43mbeta.csv\u001b[39;49m\u001b[38;5;124;43m'\u001b[39;49m\u001b[43m)\u001b[49m\n\u001b[0;32m      3\u001b[0m sarcoma\u001b[38;5;241m=\u001b[39msarcoma\u001b[38;5;241m.\u001b[39mto_pandas()\n\u001b[0;32m      6\u001b[0m \u001b[38;5;66;03m#### model loading\u001b[39;00m\n",
      "File \u001b[1;32m~\\anaconda3\\envs\\mvTCR\\lib\\site-packages\\datatable\\utils\\fread.py:123\u001b[0m, in \u001b[0;36m_resolve_source_any\u001b[1;34m(src, tempfiles)\u001b[0m\n\u001b[0;32m    121\u001b[0m             \u001b[38;5;28;01mif\u001b[39;00m logger:\n\u001b[0;32m    122\u001b[0m                 logger\u001b[38;5;241m.\u001b[39mdebug(\u001b[38;5;124m\"\u001b[39m\u001b[38;5;124mInput is assumed to be a file name.\u001b[39m\u001b[38;5;124m\"\u001b[39m)\n\u001b[1;32m--> 123\u001b[0m             \u001b[38;5;28;01mreturn\u001b[39;00m \u001b[43m_resolve_source_file\u001b[49m\u001b[43m(\u001b[49m\u001b[43msrc\u001b[49m\u001b[43m,\u001b[49m\u001b[43m \u001b[49m\u001b[43mtempfiles\u001b[49m\u001b[43m)\u001b[49m\n\u001b[0;32m    124\u001b[0m \u001b[38;5;28;01melif\u001b[39;00m \u001b[38;5;28misinstance\u001b[39m(src, _pathlike) \u001b[38;5;129;01mor\u001b[39;00m \u001b[38;5;28mhasattr\u001b[39m(src, \u001b[38;5;124m\"\u001b[39m\u001b[38;5;124mread\u001b[39m\u001b[38;5;124m\"\u001b[39m):\n\u001b[0;32m    125\u001b[0m     \u001b[38;5;28;01mreturn\u001b[39;00m _resolve_source_file(src, tempfiles)\n",
      "File \u001b[1;32m~\\anaconda3\\envs\\mvTCR\\lib\\site-packages\\datatable\\utils\\fread.py:201\u001b[0m, in \u001b[0;36m_resolve_source_file\u001b[1;34m(file, tempfiles)\u001b[0m\n\u001b[0;32m    199\u001b[0m         \u001b[38;5;28;01mreturn\u001b[39;00m _resolve_archive(xpath, ypath, tempfiles)\n\u001b[0;32m    200\u001b[0m     \u001b[38;5;28;01melse\u001b[39;00m:\n\u001b[1;32m--> 201\u001b[0m         \u001b[38;5;28;01mraise\u001b[39;00m \u001b[38;5;167;01mValueError\u001b[39;00m(\u001b[38;5;124m\"\u001b[39m\u001b[38;5;124mFile \u001b[39m\u001b[38;5;132;01m%s\u001b[39;00m\u001b[38;5;124m`\u001b[39m\u001b[38;5;132;01m%s\u001b[39;00m\u001b[38;5;124m` does not exist\u001b[39m\u001b[38;5;124m\"\u001b[39m\n\u001b[0;32m    202\u001b[0m                          \u001b[38;5;241m%\u001b[39m (escape(xpath), escape(ypath)))\n\u001b[0;32m    203\u001b[0m \u001b[38;5;28;01mif\u001b[39;00m \u001b[38;5;129;01mnot\u001b[39;00m os\u001b[38;5;241m.\u001b[39mpath\u001b[38;5;241m.\u001b[39misfile(file):\n\u001b[0;32m    204\u001b[0m     \u001b[38;5;28;01mraise\u001b[39;00m \u001b[38;5;167;01mValueError\u001b[39;00m(\u001b[38;5;124m\"\u001b[39m\u001b[38;5;124mPath `\u001b[39m\u001b[38;5;132;01m%s\u001b[39;00m\u001b[38;5;124m` is not a file\u001b[39m\u001b[38;5;124m\"\u001b[39m \u001b[38;5;241m%\u001b[39m escape(file))\n",
      "\u001b[1;31mValueError\u001b[0m: File D:\\jaeminjj\\SNU\\methylation_classifier\\Untitled Folder\\beta.csv does not exist"
     ]
    }
   ],
   "source": [
    "### beta data loading preporceessed data \n",
    "sarcoma = dt.fread('beta.csv')\n",
    "sarcoma=sarcoma.to_pandas()\n",
    "\n",
    "\n",
    "#### model loading\n",
    "model = torch.load('model.pt') ### 고정된것   \n",
    "model.to(device)\n",
    "model.eval()\n",
    "device = torch.device(\"cuda\")\n",
    "### features loading\n",
    "features=pd.read_csv('Probe_scores.csv')  ### 고정된것   \n",
    "features=list(features.iloc[:2000,0])\n",
    "#### 만약에 feature랑 겹치는 애들 없으면 0으로 채우기 ## 가끔 이런 경우 있음\n",
    "if len(set(features) -set(sarcoma.columns)) !=0:\n",
    "    sarcoma[(set(features) -set(sarcoma.columns))]=0\n",
    "xx= sarcoma.loc[:,features]\n",
    "\n",
    "##### xx 가 Input Data. + active function 1 - tanh 0- relu\n",
    "xx=torch.from_numpy(np.array(xx))\n",
    "xx=xx.to(device)\n",
    "z=model(xx.float(),1)\n",
    "pred = torch.max(z.data,1)\n",
    "pred = pred[1].to(\"cpu\") ### prediction value\n",
    "categories = list(range(0, 91))\n",
    "#scores = z.reshape((30,1,91)).to(\"cpu\")\n",
    "scores = z.reshape((-1,1,91)).to(\"cpu\")\n",
    "distance='euclidean'\n",
    "\n",
    "\n",
    "\n",
    "#### open max model loading\n",
    "test_loss = 0\n",
    "correct = 0\n",
    "total = 0\n",
    "weibull_alpha=3\n",
    "weibull_tail=20\n",
    "threshold=0.5\n",
    "\n",
    "### 고정된것  \n",
    "with open('model.pickle', 'rb') as f:\n",
    "    weibull_model = pickle.load(f)\n",
    "\n",
    "####     \n",
    "import scipy.spatial.distance as spd\n",
    "pred_softmax, pred_softmax_threshold, pred_openmax = [], [], []\n",
    "score_softmax, score_openmax = [], []\n",
    "for score in scores:\n",
    "    so, ss = openmax(weibull_model, categories, score,\n",
    "                     0.9, weibull_alpha,distance)  # openmax_prob, softmax_prob\n",
    "    pred_softmax.append(np.argmax(ss))\n",
    "    pred_softmax_threshold.append(np.argmax(ss) if np.max(ss) >= threshold else 91)\n",
    "    pred_openmax.append(np.argmax(so) if np.max(so) >= threshold else 91)\n",
    "    score_softmax.append(ss)\n",
    "    score_openmax.append(so)\n",
    "    \n",
    "#sample - predicted_label - percentage -second predicted_label - percentage\n",
    "# if 92 label just percentage na value\n",
    "\n",
    "\n",
    "for score in scores:\n",
    "    so, ss = openmax(weibull_model, categories, score,\n",
    "                     0.9, weibull_alpha,distance)  # openmax_prob, softmax_prob\n",
    "    pred_softmax.append(np.argmax(ss))\n",
    "    pred_softmax_threshold.append(np.argmax(ss) if np.max(ss) >= threshold else 91)\n",
    "    pred_openmax.append(np.argmax(so) if np.max(so) >= threshold else 91)\n",
    "    score_softmax.append(ss)\n",
    "    score_openmax.append(so)\n",
    "    \n",
    "\n",
    "label=pd.read_csv('label.csv') ### 고정된것   \n",
    "t=list(label['0'])\n",
    "t.append('un_defined')\n",
    "score=pd.DataFrame(score_softmax)\n",
    "score.columns=label['0']\n",
    "score1=pd.DataFrame(score_openmax)\n",
    "score1.columns=t\n",
    "\n",
    "result=pd.DataFrame(index=sarcoma.index,columns=['predicted_label','first_score','second_predicted_label','second_score'])\n",
    "for idx,i in enumerate(score.index):\n",
    "    if score1.iloc[0,:].sort_values(ascending=False).index[0] =='un_defined':\n",
    "        result.loc[i,'predicted_label']='un_defined'\n",
    "        result.loc[i,'first_score']=score1.iloc[idx,:].sort_values(ascending=False)[0]\n",
    "    else:\n",
    "        result.loc[i,'predicted_label']=score1.iloc[idx,:].sort_values(ascending=False).index[0]\n",
    "        result.loc[i,'first_score']=score1.iloc[idx,:].sort_values(ascending=False)[0]\n",
    "    result.loc[i,'second_predicted_label']=score1.iloc[idx,:].sort_values(ascending=False).index[1]\n",
    "    result.loc[i,'second_score']=score1.iloc[idx,:].sort_values(ascending=False)[1]"
   ]
  },
  {
   "cell_type": "code",
   "execution_count": null,
   "id": "a27f65ae",
   "metadata": {},
   "outputs": [],
   "source": [
    "pd.read_csv"
   ]
  }
 ],
 "metadata": {
  "kernelspec": {
   "display_name": "Python 3 (ipykernel)",
   "language": "python",
   "name": "python3"
  },
  "language_info": {
   "codemirror_mode": {
    "name": "ipython",
    "version": 3
   },
   "file_extension": ".py",
   "mimetype": "text/x-python",
   "name": "python",
   "nbconvert_exporter": "python",
   "pygments_lexer": "ipython3",
   "version": "3.10.14"
  }
 },
 "nbformat": 4,
 "nbformat_minor": 5
}
